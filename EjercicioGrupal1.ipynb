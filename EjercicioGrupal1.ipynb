{
  "cells": [
    {
      "cell_type": "markdown",
      "source": [
        "### <center> Ejercicio sobre el efecto fotoeléctrico </center>"
      ],
      "metadata": {
        "nteract": {
          "transient": {
            "deleting": false
          }
        }
      }
    },
    {
      "cell_type": "markdown",
      "source": [
        "**El enunciado propone lo siguiente:**\n",
        "    *\"El objetivo de la práctica es la determinación de la energía de arranque de los electrones de un metal y el valor de la constante  de Planck (). Para ello, disponemos de una lámpara virtual que emite luz de distintas frecuencias y placas (también virtuales) de distintos metales (sodio, cinc, calcio, etc.) que van a ser iluminadas por la mencionada fuente de luz.\"*"
      ],
      "metadata": {
        "nteract": {
          "transient": {
            "deleting": false
          }
        }
      }
    },
    {
      "cell_type": "markdown",
      "source": [
        "**Primer ejercicio.** Haced una tabla rápida con el nombre de cada color del arcoíris (azul, rojo, amarillo, etc.) en una columna, en una segunda columna escribe su longitud de onda (en metros) y en una tercera columna, su frecuencia (en Hercios). ¿Cuál es la relación matemática entre longitud de onda y frecuencia de una onda electromagnética?"
      ],
      "metadata": {
        "nteract": {
          "transient": {
            "deleting": false
          }
        }
      }
    },
    {
      "cell_type": "markdown",
      "source": [
        "Escogiendo los siguientes colores procedemos a realizar la actividad propuesta:"
      ],
      "metadata": {
        "nteract": {
          "transient": {
            "deleting": false
          }
        }
      }
    },
    {
      "cell_type": "markdown",
      "source": [
        "| Color | F.Onda | Hz           |\n",
        "|-------|--------|--------------|\n",
        "|Violet | 400 nm | $7,28e^{14}$ |\n",
        "|Blue   | 462 nm | $6,49e^{14}$ |\n",
        "|Cian   | 485 nm | $6,18e^{14}$ |\n",
        "|Green  | 532 nm | $5,66e^{14}$ |\n",
        "|Yellow | 580 nm | $5,17e^{14}$ |\n",
        "|Orange | 605 nm | $4,96e^{14}$ |\n",
        "|Red    | 685 nm | $4,42e^{14}$ |"
      ],
      "metadata": {
        "nteract": {
          "transient": {
            "deleting": false
          }
        }
      }
    },
    {
      "cell_type": "markdown",
      "source": [
        "### Relacion entre Frecuencia y longitud de onda"
      ],
      "metadata": {
        "nteract": {
          "transient": {
            "deleting": false
          }
        }
      }
    },
    {
      "cell_type": "markdown",
      "source": [
        "Frecuencia y longitud de onda están relacionadas entre sí a través de la velocidad de propagación y esta relación es inversamente proporcional. Si la velocidad se mantiene constante, la frecuencia se calcula como la velocidad de propagación entre la longitud de onda.\n",
        "\n",
        "### frecuencia = velocidad/longitud de onda\n",
        "\n",
        "La longitud de onda se suele representar con la letra griega lambda ($λ$) y en el Sistema Internacional de Unidades se mide en metros. La frecuencia se suele representar con la letra $V$ o $F$ y se mide en hercios o ciclos por segundo (Hz).\n",
        "\n",
        "En la luz y otras ondas electromagnéticas que se propagan a la velocidad de la luz ($C$), la frecuencia sería igual a la velocidad de la luz (≈ 3×108 m/s) entre la longitud de onda:\n",
        "\n",
        "### <center>Fórmula frecuencia y longitud de onda</center>\n",
        "\n",
        "$$\n",
        "V = \\frac{C}{λ}\n",
        "$$\n",
        "\n",
        "Del mismo modo, si conocemos la frecuencia, la longitud de onda será igual a la velocidad de la luz entre la frecuencia:\n",
        "\n",
        "### <center>Fórmula frecuencia y longitud de onda</center>\n",
        "\n",
        "$$\n",
        "λ = \\frac{C}{V}\n",
        "$$\n",
        "\n"
      ],
      "metadata": {
        "nteract": {
          "transient": {
            "deleting": false
          }
        }
      }
    },
    {
      "cell_type": "markdown",
      "source": [
        "Volviendo al **primer ejercicio**. Una vez que tenemos un listado de longitudes de onda y voltajes de frenado, realizaremos el ajuste a una recta mediante el algoritmo de *regresión* o *ajuste* que hemos comentado antes.\n",
        "\n",
        "$$\n",
        "    y = m \\cdot x \\pm b\n",
        "$$\n",
        "\n",
        "Donde $x$ es la variable independiente e $y$ es la dependiente. Es decir, para cada valor de $x$, tendremos un valor de $y$. Los parámetros $m$ y $b$ son constantes y según el problema físico, representarán una cosa u otra. Si dibujamos $y$ respecto a $x$, tendremos una recta de pendiente (inclinación)$m$  y con un valor de $y=b$ cuando $x$ valga 0 (), tal y como puede verse en la figura.\n",
        "\n",
        "<center><img src=\"Grafico1.PNG\"></center>\n",
        "\n",
        "Al parámetro $b$ se le llama ordenada en el origen. Ordenda es sinónimo de valor de la variable dependiente ($y$, en nuestro caso) y en el origen quiere decir cuando $x = 0$. Dicho de otra manera: **$b$ es el valor que toma  cuando $x = 0$. El resultado de un ajuste lineal es precisamente la obtención de $m$ y $b$.**\n",
        "\n",
        "La expresión matemática que tendremos que ajustar a los datos experimentales será la que postuló el mismísimo Einstein:\n",
        "\n",
        "$$\n",
        "    eV = 2c\\pi h f - \\phi\n",
        "$$\n",
        "\n",
        "La ecuación anterior se puede reescribir como:\n",
        "\n",
        "$$\n",
        "    V = \\frac{2c\\pi h}{e} \\cdot \\frac{1}{λ} - \\frac{\\phi}{e}\n",
        "$$\n",
        "\n",
        "Expresado de manera más coloquial,$V$  dependerá (variable dependiente) de la frecuencia de la luz (variable independiente) multiplicada esta por una constante ($2c\\pi h/e = m$ ó pendiente) y sumada (o restada) a otra constante ($\\phi/e=b$ u ordenada en origen).\n",
        "\n",
        "Como ya sabemos la carga del electrón ($e$), podemos despejar $h$(ó $h$, da lo mismo: sólo se diferencian en un factor $2\\pi$) y $\\phi$, es decir la constate de Planck y la función de trabajo. Por si todavía no ha quedado claro, estamos buscando aquella recta que pasa por los puntos $x$,$y$, donde los valores de $x$ se corresponden con la inversa de las longitudes de onda ($1/λ$) y los valores de $y$ con los voltajes de frenado ($V$). Tened en cuenta que el applet de PhET expresa las longitudes de onda en nanómetros, luego para convertir a metros tendrás que tener en cuenta que: $1nm = 1\\cdot10^{-9} m$.\n",
        "\n",
        "Para obtener $h$ y $\\phi$ sólo tenéis que despejar de los valores de la pendiente y ordenada obtenidos:\n",
        "\n",
        "$$\n",
        "    h = \\frac{m\\cdot e}{2c\\cdot\\pi}\n",
        "$$\n",
        "$$\n",
        "    \\phi = b\\cdot e\n",
        "$$\n"
      ],
      "metadata": {
        "nteract": {
          "transient": {
            "deleting": false
          }
        }
      }
    },
    {
      "cell_type": "markdown",
      "source": [
        "Para realizar toda la actividad se esta usando nteract y el fichero <code>regression.js</code> también disponible en [UNPKG][regression]. **Pregunta**: ¿para qué sirve UNPKG y porqué es uno de los servicios más usados de Internet (junto con [jspm][jspm], [ESM][ESM], [cdnjs][cdnjs], [jsdelivr][jsdelivr], …)? ¿Qué son los [CDN][CDN]?\n",
        "\n",
        "[regression]:regression.js\n",
        "[jspm]:https://jspm.org\n",
        "[ESM]:https://esm.sh\n",
        "[cdnjs]:https://cdnjs.com\n",
        "[jsdelivr]:https://www.jsdelivr.com\n",
        "[CDN]:https://en.wikipedia.org/wiki/Content_delivery_network\n",
        "\n",
        "Unpkg es una red de entrega de contenido global y rápida para todo en [npm][npm].\n",
        "\n",
        "[npm]:https://www.npmjs.com\n",
        "\n",
        "Un [CDN][CDN] (Content Delivery Network) es un grupo de servidores instalados en diferentes ubicaciones para brindar contenido web en un área geográfica amplia."
      ],
      "metadata": {
        "nteract": {
          "transient": {
            "deleting": false
          }
        }
      }
    },
    {
      "cell_type": "markdown",
      "source": [
        "### Toma de medidas con el applet del efecto Fotoeléctrico "
      ],
      "metadata": {
        "nteract": {
          "transient": {
            "deleting": false
          }
        }
      }
    },
    {
      "cell_type": "markdown",
      "source": [
        "**Ejercicio propuesto:** Elegid 4 metales a vuestro antojo (menú de la derecha en la ventana del applet) y para cada uno, busca parejas de valores \\[$λ$,$V$\\] (4 como mínimo: \\[$λ_{1},V_{1}$\\], \\[$λ_{2},V_{2}$\\], \\[$λ_{3},V_{3}$\\], \\[$λ_{4},V_{4}$\\], …). Es decir, nos estamos preguntando para qué voltajes de frenado $V_{i}$ detenemos la emisión de electrones que se han producido al ser extraídos mediante la colisión con partículas de luz (*fotones*) de longitud de onda $λ_{i}$. Estos valores los vamos apuntando en un array de Javascript:"
      ],
      "metadata": {
        "nteract": {
          "transient": {
            "deleting": false
          }
        }
      }
    },
    {
      "cell_type": "code",
      "source": [
        "var longitudes_de_onda_medidas = [300, 350, 400, 450].map(x => x*1e-9);  // para pasar a metros\n",
        "var voltajes_medidos = [8.0, 0.0, -0.8, -1.8];  // en voltios (voltaje de frenado)"
      ],
      "outputs": [],
      "execution_count": 2,
      "metadata": {
        "collapsed": true,
        "jupyter": {
          "source_hidden": false,
          "outputs_hidden": false
        },
        "nteract": {
          "transient": {
            "deleting": false
          }
        },
        "execution": {
          "iopub.status.busy": "2020-11-29T10:34:16.461Z",
          "iopub.execute_input": "2020-11-29T10:34:16.468Z",
          "iopub.status.idle": "2020-11-29T10:34:16.476Z",
          "shell.execute_reply": "2020-11-29T10:34:16.315Z"
        }
      }
    },
    {
      "cell_type": "markdown",
      "source": [
        "|SODIO|ZINC|COBRE|PLATINO|\n",
        "|-----|----|-----|-------|\n",
        "|![MuestraSodio1](Muestras/muestraSodio1.PNG)|![MuestraZinc1](Muestras/muestraZinc1.PNG)|![MuestraCobre1](Muestras/muestraCopper1.PNG)|![MuestraPlatino1](Muestras/muestraPlatino1.PNG)|\n",
        "|![MuestraSodio2](Muestras/muestraSodio2.PNG)|![MuestraZinc2](Muestras/muestraZinc2.PNG)|![MuestraCobre2](Muestras/muestraCopper2.PNG)|![MuestraPlatino2](Muestras/muestraPlatino2.PNG)|\n",
        "|![MuestraSodio3](Muestras/muestraSodio3.PNG)|![MuestraZinc3](Muestras/muestraZinc3.PNG)|![MuestraCobre3](Muestras/muestraCopper3.PNG)|![MuestraPlatino3](Muestras/muestraPlatino3.PNG)|\n",
        "|![MuestraSodio4](Muestras/muestraSodio4.PNG)|![MuestraZinc4](Muestras/muestraZinc4.PNG)|![MuestraCobre4](Muestras/muestraCopper4.PNG)|![MuestraPlatino4](Muestras/muestraPlatino4.PNG)|"
      ],
      "metadata": {
        "nteract": {
          "transient": {
            "deleting": false
          }
        }
      }
    },
    {
      "cell_type": "markdown",
      "source": [
        "### Ajuste a una recta con <code>regression.js</code> "
      ],
      "metadata": {
        "nteract": {
          "transient": {
            "deleting": false
          }
        }
      }
    },
    {
      "cell_type": "markdown",
      "source": [
        "Para hacer un ajuste, tenemos que transformar un poco los datos, pues el paquete <code>regression.js</code> usa tuplas (mini-arrays de dos elementos) de valores $x$, $y$. Esto lo podemos conseguir de manera muy elegante mediante el método [reduce][reduce], incorporado recientemente a Javascript.\n",
        "\n",
        "[reduce]:https://developer.mozilla.org/en-US/docs/Web/JavaScript/Reference/Global_Objects/Array/reduce"
      ],
      "metadata": {
        "nteract": {
          "transient": {
            "deleting": false
          }
        }
      }
    },
    {
      "cell_type": "code",
      "source": [
        "inversa_de_longitudes_de_onda = longitudes_de_onda_medidas.map(lambda => 1/lambda );  \n",
        "var datos_a_ajustar = voltajes_medidos.reduce((tuplas_longitud_onda_voltaje, b, i) => {\n",
        "    tuplas_longitud_onda_voltaje.push([inversa_de_longitudes_de_onda[i], b]);\n",
        "  return tuplas_longitud_onda_voltaje;\n",
        "}, []);\n",
        "console.log(datos_a_ajustar);"
      ],
      "outputs": [
        {
          "output_type": "stream",
          "name": "stdout",
          "text": [
            "[\n",
            "  [ 3333333.333333333, 8 ],\n",
            "  [ 2857142.857142857, 0 ],\n",
            "  [ 2500000, -0.8 ],\n",
            "  [ 2222222.222222222, -1.8 ]\n",
            "]\n"
          ]
        }
      ],
      "execution_count": 3,
      "metadata": {
        "collapsed": true,
        "jupyter": {
          "source_hidden": false,
          "outputs_hidden": false
        },
        "nteract": {
          "transient": {
            "deleting": false
          }
        },
        "execution": {
          "iopub.status.busy": "2020-11-29T10:34:16.487Z",
          "iopub.execute_input": "2020-11-29T10:34:16.497Z",
          "iopub.status.idle": "2020-11-29T10:34:16.514Z",
          "shell.execute_reply": "2020-11-29T10:34:16.326Z"
        }
      }
    },
    {
      "cell_type": "markdown",
      "source": [
        "A continuación ya podemos hacer el ajuste a una recta y obtener los valores de $m$ y $b$."
      ],
      "metadata": {
        "nteract": {
          "transient": {
            "deleting": false
          }
        }
      }
    },
    {
      "cell_type": "code",
      "source": [
        "var regression = require('./regression.js');\n",
        "var result = regression.linear(datos_a_ajustar, { precision: 15 });\n",
        "var m = result.equation[0];  // pendiente\n",
        "var b = result.equation[1];  // ordenada en origen\n",
        "console.log('la pendiente es = ' + m + ' y la ordenada es = ' + b);"
      ],
      "outputs": [
        {
          "output_type": "stream",
          "name": "stdout",
          "text": [
            "la pendiente es = 0.000008589538462 y la ordenada es = -22.08376068501984\n"
          ]
        }
      ],
      "execution_count": 4,
      "metadata": {
        "collapsed": true,
        "jupyter": {
          "source_hidden": false,
          "outputs_hidden": false
        },
        "nteract": {
          "transient": {
            "deleting": false
          }
        },
        "execution": {
          "iopub.status.busy": "2020-11-29T10:34:16.525Z",
          "iopub.execute_input": "2020-11-29T10:34:16.537Z",
          "iopub.status.idle": "2020-11-29T10:34:16.555Z",
          "shell.execute_reply": "2020-11-29T10:34:16.337Z"
        }
      }
    },
    {
      "cell_type": "markdown",
      "source": [
        "Con estos valores de $m$ y $b$ ya podemos obtener $h$ y $\\phi$ como se especifica más arriba."
      ],
      "metadata": {
        "nteract": {
          "transient": {
            "deleting": false
          }
        }
      }
    },
    {
      "cell_type": "markdown",
      "source": [
        "### Representación gráfica de los datos"
      ],
      "metadata": {
        "nteract": {
          "transient": {
            "deleting": false
          }
        }
      }
    },
    {
      "cell_type": "markdown",
      "source": [
        "El **último ejercicio** consiste en representar gráficamente los datos experimentales y la recta obtenida. Previamente, incluye este pequeño código en una celda del notebook para poder representar gráficas con nteract. Se trata de un pequeño apaño para que nteract pueda trabajar con la biblioteca [Plot.ly][ploty], que ya lleva integrada.\n",
        "\n",
        " [ploty]:https://plotly.com"
      ],
      "metadata": {
        "nteract": {
          "transient": {
            "deleting": false
          }
        }
      }
    },
    {
      "cell_type": "code",
      "source": [
        "function Plotly(data, layout, $$) {\n",
        "    $$ = $$ || global.$$;\n",
        "    $$.mime({ \"application/vnd.plotly.v1+json\": { data: data, layout: layout } });\n",
        "}"
      ],
      "outputs": [],
      "execution_count": 5,
      "metadata": {
        "collapsed": true,
        "jupyter": {
          "source_hidden": false,
          "outputs_hidden": false
        },
        "nteract": {
          "transient": {
            "deleting": false
          }
        },
        "execution": {
          "iopub.status.busy": "2020-11-29T10:34:16.568Z",
          "iopub.execute_input": "2020-11-29T10:34:16.576Z",
          "iopub.status.idle": "2020-11-29T10:34:16.587Z",
          "shell.execute_reply": "2020-11-29T10:34:16.353Z"
        }
      }
    },
    {
      "cell_type": "markdown",
      "source": [
        "Para dibujar la recta, tenemos que calcular los puntos $y$ (voltajes) para los mismos valores de $x$ (inversas de las longitudes de onda medidas con el applet) y con los resultados de $m$ y $b$ que hemos obtenido con el ajuste anterior. Matemáticamente:\n",
        "\n",
        "$$\n",
        "    V_{calculado}=m\\cdot \\frac{1}{λ} + b\n",
        "$$"
      ],
      "metadata": {
        "nteract": {
          "transient": {
            "deleting": false
          }
        }
      }
    },
    {
      "cell_type": "markdown",
      "source": [
        "En Javascript este cálculo se puede hacer de manera muy sencilla mediante el método <code>map</code> sobre el array de frecuencias medidas."
      ],
      "metadata": {
        "nteract": {
          "transient": {
            "deleting": false
          }
        }
      }
    },
    {
      "cell_type": "code",
      "source": [
        "voltajes_de_frenado_calculados = inversa_de_longitudes_de_onda.map(inversa_lambda => inversa_lambda * m + b);"
      ],
      "outputs": [
        {
          "output_type": "execute_result",
          "execution_count": 6,
          "data": {
            "text/plain": "[\n  6.5480341883134905,\n  2.4577777778373004,\n  -0.6099145300198394,\n  -2.995897436130953\n]"
          },
          "metadata": {}
        }
      ],
      "execution_count": 6,
      "metadata": {
        "collapsed": true,
        "jupyter": {
          "source_hidden": false,
          "outputs_hidden": false
        },
        "nteract": {
          "transient": {
            "deleting": false
          }
        },
        "execution": {
          "iopub.status.busy": "2020-11-29T10:34:16.599Z",
          "iopub.execute_input": "2020-11-29T10:34:16.612Z",
          "iopub.status.idle": "2020-11-29T10:34:16.629Z",
          "shell.execute_reply": "2020-11-29T10:34:16.362Z"
        }
      }
    },
    {
      "cell_type": "markdown",
      "source": [
        "Para pintar una gráfica con Plot.ly, crearíamos una celda de código como la siguiente."
      ],
      "metadata": {
        "nteract": {
          "transient": {
            "deleting": false
          }
        }
      }
    },
    {
      "cell_type": "code",
      "source": [
        "datos = [\n",
        "  { x: inversa_de_longitudes_de_onda, y: voltajes_medidos, name: 'Datos experimentales de todos los metales' }, \n",
        "  { x: inversa_de_longitudes_de_onda, y: voltajes_de_frenado_calculados, name: 'Datos calculados tras ajuste' }\n",
        "];\n",
        "var layout = {\n",
        "  title: 'Gráfica',\n",
        "  xaxis: { title: 'Longitudes de onda',\n",
        "    titlefont: { family: 'Courier New, monospace', size: 18, color: '#7f7f7f' }\n",
        "  },\n",
        "  yaxis: {\n",
        "    title: 'Voltajes medidos', titlefont: {\n",
        "      family: 'Courier New, monospace', size: 18, color: '#7f7f7f' }\n",
        "  }\n",
        "};\n",
        "Plotly(datos, layout);"
      ],
      "outputs": [
        {
          "output_type": "execute_result",
          "execution_count": 7,
          "data": {
            "application/vnd.plotly.v1+json": {
              "data": [
                {
                  "x": [
                    3333333.333333333,
                    2857142.857142857,
                    2500000,
                    2222222.222222222
                  ],
                  "y": [
                    8,
                    0,
                    -0.8,
                    -1.8
                  ],
                  "name": "Datos experimentales de todos los metales"
                },
                {
                  "x": [
                    3333333.333333333,
                    2857142.857142857,
                    2500000,
                    2222222.222222222
                  ],
                  "y": [
                    6.5480341883134905,
                    2.4577777778373004,
                    -0.6099145300198394,
                    -2.995897436130953
                  ],
                  "name": "Datos calculados tras ajuste"
                }
              ],
              "layout": {
                "title": "Gráfica",
                "xaxis": {
                  "title": "Longitudes de onda",
                  "titlefont": {
                    "family": "Courier New, monospace",
                    "size": 18,
                    "color": "#7f7f7f"
                  }
                },
                "yaxis": {
                  "title": "Voltajes medidos",
                  "titlefont": {
                    "family": "Courier New, monospace",
                    "size": 18,
                    "color": "#7f7f7f"
                  }
                }
              }
            }
          },
          "metadata": {}
        }
      ],
      "execution_count": 7,
      "metadata": {
        "collapsed": true,
        "jupyter": {
          "source_hidden": false,
          "outputs_hidden": false
        },
        "nteract": {
          "transient": {
            "deleting": false
          }
        },
        "execution": {
          "iopub.status.busy": "2020-11-29T10:34:16.640Z",
          "iopub.execute_input": "2020-11-29T10:34:16.648Z",
          "iopub.status.idle": "2020-11-29T10:34:16.739Z",
          "shell.execute_reply": "2020-11-29T10:34:16.373Z"
        }
      }
    },
    {
      "cell_type": "markdown",
      "source": [
        "## Historia del Efecto Fotoeléctrico ##"
      ],
      "metadata": {
        "nteract": {
          "transient": {
            "deleting": false
          }
        }
      }
    },
    {
      "cell_type": "markdown",
      "source": [
        "En 1887, Heinrich Hertz, al observar que el arco que salta entre dos electrodos conectados a alta tensión alcanza distancias mayores cuando se ilumina con luz ultravioleta que cuando se deja en la oscuridad.\n",
        "\n",
        "En 1905 Albert Einsteni publicó en su artícul*o \"Heurística  la generación y conversión de la luz\"*. \n",
        "\n",
        "Posteriormente Robert Andrews Millikan demostró durante 10 años de estudio que la teoría de Einstein no era correcta, para concluir finalmente que sí lo era.\n",
        "\n",
        "Se podría decir que el efecto fotoeléctrico es lo opuesto a los *\"Rayos X\"*, ya que el efecto fotoeléctrico nos indica que los fotones pueden transferir energía a los electrones, mientras que los Rayos X son la transformación en un fotón de toda o parte de la energía cinética de un electrón en movimiento.\n",
        "\n",
        "Casualmente esto se descubrió antes de que se dieran a conocer los trabajos de Millikan y Einstein, los cuales recibieron el Premio Nobel en 1923 y 1921, respectivamente.de"
      ],
      "metadata": {
        "nteract": {
          "transient": {
            "deleting": false
          }
        }
      }
    },
    {
      "cell_type": "markdown",
      "source": [
        "Trabajo realizado por: <br/>\r\n",
        "**Adrián Rincón López <br/>\r\n",
        "Sergio Montero García <br/>\r\n",
        "Antonio José Zurita Pérez <br/>\r\n",
        "Adrián Martín Jiménez**"
      ],
      "metadata": {
        "nteract": {
          "transient": {
            "deleting": false
          }
        }
      }
    }
  ],
  "metadata": {
    "kernel_info": {
      "name": "python3"
    },
    "language_info": {
      "name": "javascript",
      "version": "12.8.1",
      "mimetype": "application/javascript",
      "file_extension": ".js"
    },
    "kernelspec": {
      "argv": [
        "C:\\Users\\adria\\scoop\\apps\\miniconda3\\current\\python.exe",
        "-m",
        "ipykernel_launcher",
        "-f",
        "{connection_file}"
      ],
      "display_name": "Python 3",
      "language": "python",
      "name": "python3"
    },
    "nteract": {
      "version": "0.26.0"
    }
  },
  "nbformat": 4,
  "nbformat_minor": 0
}