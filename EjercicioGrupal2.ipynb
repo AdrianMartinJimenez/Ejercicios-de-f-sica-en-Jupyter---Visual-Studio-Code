{
  "cells": [
    {
      "cell_type": "markdown",
      "source": [
        "## Partícula en un campo magnético ##\r\n"
      ],
      "metadata": {
        "nteract": {
          "transient": {
            "deleting": false
          }
        }
      }
    },
    {
      "cell_type": "markdown",
      "source": [
        "Dado el siguiente ejercicio: *\"Un electrón con una capacidad de trabajo de 72090×10−19 J orbita de manera perpendicular a un campo magnético de 3250 G. ¿Cuál es el radio de la órbita? ¿Y su frecuencia y periodo angular? Resuelve el mismo ejercicio para un antineutrón.*\""
      ],
      "metadata": {
        "nteract": {
          "transient": {
            "deleting": false
          }
        }
      }
    },
    {
      "cell_type": "markdown",
      "source": [
        "### Solución Primer Ejercicio ###\r\n"
      ],
      "metadata": {
        "nteract": {
          "transient": {
            "deleting": false
          }
        }
      }
    },
    {
      "cell_type": "markdown",
      "source": [
        "Lo primero que vamos a desarrollar es el *\"concepto de Gauss*\", se trata de una unidad que mide la fuerza que emite un campo magnético.\r\n",
        "\r\n",
        "Posteriormente necesitamos saber la cantidad de trabajo que realiza una fuerza de un Newton en un metro de longitud situada en la misma dirección de dicha fuerza. Lo que significa la *\"definición de julio\"*.\r\n",
        "\r\n",
        "También debemos explicar que la masa de un electrón es de $9.1 \\cdot 10^{-31}kg$, que se trata de una constante y que para nuestros cálculos se tomará como valor conocido.\r\n",
        "\r\n",
        "Finalmente que cuando una partícula cargada se mueve a una velocidad $V$ en un campo magnético normalmente se curva.\r\n",
        "\r\n",
        "Con todo esto vamos a desarrollar el ejercicio:\r\n",
        "\r\n",
        "\r\n"
      ],
      "metadata": {
        "nteract": {
          "transient": {
            "deleting": false
          }
        }
      }
    },
    {
      "cell_type": "markdown",
      "source": [
        "*Convertimos los GAUSS enunciados en el ejercicio a Teslas*\r\n",
        "\r\n",
        "$$\r\n",
        "    1 T = 10000 G\r\n",
        "$$\r\n",
        "$$\r\n",
        "    1 G = 10^{-4} T\r\n",
        "$$\r\n",
        "\r\n",
        "\r\n",
        "Cabe destacar que los *\"Teslas ($T$)\"* es la unidad empleada en el Sistema Internacional de Unidades (S.I.) y los \"*Gauss ($G$)*\" en el Sistema Cegesimal (CGS)\r\n",
        "\r\n",
        "De ahí que nuestro ejercicio de como resultado:\r\n"
      ],
      "metadata": {
        "nteract": {
          "transient": {
            "deleting": false
          }
        }
      }
    },
    {
      "cell_type": "markdown",
      "source": [
        "Para realizar los cálculos hemos de obtener la energía cinética que se obtiene con la fórmula $Ec = 1/2 \\cdot mv^{2}$.\r\n",
        "\r\n",
        "De ahí despejamos la velocidad ya que el resto de datos los hemos ido obtenido del problema.\r\n",
        "\r\n",
        "$$\r\n",
        "    V = \\sqrt{(2 \\cdot 72090 \\cdot 10^{-19})/9.1 \\cdot 10^{-31}Kg}\r\n",
        "$$"
      ],
      "metadata": {
        "nteract": {
          "transient": {
            "deleting": false
          }
        }
      }
    },
    {
      "cell_type": "markdown",
      "source": [
        "Según la ecuación de Lorentz para realizar el cálculo del radio debemos despejar este parámetro obteniendo la siguiente formulación matemática:\r\n",
        "\r\n",
        "$$\r\n",
        "    R = m \\cdot v/q \\cdot B\r\n",
        "$$\r\n",
        "\r\n",
        "Siendo $B$ la fuerza que ejerce el campo, en el caso del ejercicio tenemos $0.325 T$, valor que hemos calculado previamente."
      ],
      "metadata": {
        "nteract": {
          "transient": {
            "deleting": false
          }
        }
      }
    },
    {
      "cell_type": "code",
      "source": [
        "from sympy.physics.units import Quantity\r\n",
        "Gs = Quantity(\"Gauss\")\r\n",
        "from sympy.physics.units.systems import SI\r\n",
        "from sympy.physics.units import magnetic_flux_density\r\n",
        "SI.set_quantity_dimension(Gs, magnetic_flux_density)\r\n",
        "from sympy.physics.units import tesla\r\n",
        "SI.set_quantity_scale_factor(Gs, 1E-4*tesla)\r\n",
        "B = 3250 * Gs\r\n",
        "from sympy.physics.units import joule\r\n",
        "E = 72090E-19 * joule\r\n",
        "from sympy import solve, symbols, pi, Eq\r\n",
        "r = symbols(\"r_giro\")\r\n",
        "v = symbols(\"v_giro\")\r\n",
        "from sympy.physics.units import electronvolt\r\n",
        "from sympy.physics.units import volt\r\n",
        "q = 1*electronvolt/volt\r\n",
        "from sympy.physics.units import speed_of_light as c\r\n",
        "m = 0.5 * 1E6 * electronvolt / c**2\r\n",
        "eq_lorentz = Eq(q*v*B, (m*v**2)/r)\r\n",
        "eq_ecinetica = Eq(E, 0.5*m*v**2)\r\n",
        "solucion_v_r = solve([eq_ecinetica, eq_lorentz], [v, r])[1]\r\n",
        "radio = solucion_v_r[1]\r\n",
        "from sympy.physics.units import convert_to\r\n",
        "from sympy.physics.units import meter\r\n",
        "radio = convert_to(radio, [meter]).n(2)\r\n",
        "print(radio)"
      ],
      "outputs": [
        {
          "output_type": "stream",
          "name": "stdout",
          "text": [
            "0.0022*meter\n"
          ]
        }
      ],
      "execution_count": 1,
      "metadata": {
        "collapsed": true,
        "jupyter": {
          "source_hidden": false,
          "outputs_hidden": false
        },
        "nteract": {
          "transient": {
            "deleting": false
          }
        },
        "execution": {
          "iopub.status.busy": "2020-11-29T18:39:20.903Z",
          "iopub.execute_input": "2020-11-29T18:39:20.909Z",
          "iopub.status.idle": "2020-11-29T18:39:21.893Z",
          "shell.execute_reply": "2020-11-29T18:39:21.886Z"
        }
      }
    },
    {
      "cell_type": "markdown",
      "source": [
        "Respecto al a frecuencia angular que es otro de los aspectos requeridos, se va a calcular con la siguiente fórmula: $2 \\cdot \\pi/T$.\r\n",
        "\r\n",
        "$$\r\n",
        "    w = \\frac{2 \\cdot \\pi}{T} \\Rightarrow T = \\frac{2 \\cdot \\pi \\cdot m}{|q| \\cdot B}\r\n",
        "$$\r\n",
        "\r\n",
        "El tiempo necesario en la fórmula se consigue con la formulación matemática de $v = s/t$, de la que se deduce que $t = s/v$. Por lo que: $t = 2\\cdot\\pi \\cdot radio/velocida$.\r\n"
      ],
      "metadata": {
        "nteract": {
          "transient": {
            "deleting": false
          }
        }
      }
    },
    {
      "cell_type": "code",
      "source": [
        "import math\r\n",
        "v = math.sqrt(2*72090*math.pow(10,-31))\r\n",
        "t = 2 * math.pi * radio / v\r\n",
        "print('El tiempo que tarda el electron en dar una vuelta es: ')\r\n",
        "print(t)"
      ],
      "outputs": [
        {
          "output_type": "stream",
          "name": "stdout",
          "text": [
            "El tiempo que tarda el electron en dar una vuelta es: \n",
            "113978659268.155*meter\n"
          ]
        }
      ],
      "execution_count": 2,
      "metadata": {
        "collapsed": true,
        "jupyter": {
          "source_hidden": false,
          "outputs_hidden": false
        },
        "nteract": {
          "transient": {
            "deleting": false
          }
        },
        "execution": {
          "iopub.status.busy": "2020-11-29T18:39:21.904Z",
          "iopub.execute_input": "2020-11-29T18:39:21.910Z",
          "iopub.status.idle": "2020-11-29T18:39:21.927Z",
          "shell.execute_reply": "2020-11-29T18:39:22.054Z"
        }
      }
    },
    {
      "cell_type": "markdown",
      "source": [
        "Este cálculo nos aporta el tiempo que tarda el electrón en dar una vuelta.\r\n",
        "\r\n",
        "Una vez encontrado el valro del tiempo se puede calcular la frecuencia angular con la fórmula comentada en puntos anteriores:\r\n",
        "\r\n",
        "$$\r\n",
        "    w = \\frac{2\\cdot\\pi}{T}\r\n",
        "$$\r\n"
      ],
      "metadata": {
        "nteract": {
          "transient": {
            "deleting": false
          }
        }
      }
    },
    {
      "cell_type": "code",
      "source": [
        "w = 2 * math.pi / t\r\n",
        "print('El resultado de la frecuencia angular (w) es: ')\r\n",
        "print (w)"
      ],
      "outputs": [
        {
          "output_type": "stream",
          "name": "stdout",
          "text": [
            "El resultado de la frecuencia angular (w) es: \n",
            "5.51259801398196e-11/meter\n"
          ]
        }
      ],
      "execution_count": 3,
      "metadata": {
        "collapsed": true,
        "jupyter": {
          "source_hidden": false,
          "outputs_hidden": false
        },
        "nteract": {
          "transient": {
            "deleting": false
          }
        },
        "execution": {
          "iopub.status.busy": "2020-11-29T18:39:21.936Z",
          "iopub.execute_input": "2020-11-29T18:39:21.947Z",
          "iopub.status.idle": "2020-11-29T18:39:21.962Z",
          "shell.execute_reply": "2020-11-29T18:39:22.058Z"
        }
      }
    },
    {
      "cell_type": "markdown",
      "source": [
        "La pregunta que plantea el enunciado para el antineutrón es que no orbitaría porque tiene carga 0."
      ],
      "metadata": {
        "nteract": {
          "transient": {
            "deleting": false
          }
        }
      }
    },
    {
      "cell_type": "markdown",
      "source": [
        "**Pregunta propuesta**: En el código de la actividad facilitada por el profesor: ¿por qué se indica que las dimensiones de la unidad <code>gauss</code> (definida por nosotros) son de *densidad de flujo magnético* (<code>magnetic_flux_density</code>)? ¿Por qué la carga del electrón se ha definido como <code>electronvolt/volt</code>?\r\n",
        "\r\n"
      ],
      "metadata": {
        "nteract": {
          "transient": {
            "deleting": false
          }
        }
      }
    },
    {
      "cell_type": "code",
      "source": [
        "from sympy.physics.units import magnetic_flux_density\r\n",
        "from sympy.physics.units import magnetic_density\r\n",
        "from sympy.physics.units import magnetic_flux\r\n",
        "from sympy.physics.units import tesla\r\n",
        "from sympy.physics.units import length\r\n",
        "from sympy.physics.units.systems.si import dimsys_SI\r\n",
        "dimsys_SI.get_dimensional_dependencies(magnetic_density)"
      ],
      "outputs": [
        {
          "output_type": "execute_result",
          "execution_count": 4,
          "data": {
            "text/plain": "{'mass': 1, 'current': -1, 'time': -2}"
          },
          "metadata": {}
        }
      ],
      "execution_count": 4,
      "metadata": {
        "collapsed": true,
        "jupyter": {
          "source_hidden": false,
          "outputs_hidden": false
        },
        "nteract": {
          "transient": {
            "deleting": false
          }
        },
        "execution": {
          "iopub.status.busy": "2020-11-29T18:39:21.972Z",
          "iopub.execute_input": "2020-11-29T18:39:21.977Z",
          "iopub.status.idle": "2020-11-29T18:39:21.992Z",
          "shell.execute_reply": "2020-11-29T18:39:22.061Z"
        }
      }
    },
    {
      "cell_type": "markdown",
      "source": [
        "Porque tras comprobar con la ayuda de *\"sympy\"*, tal como se vé en el código anterior, establece que la unidad <code>gauss</code> se debe leer como $ Masa \\cdot Corriente^{-1} \\cdot Tiempo^{-2} $. O lo que es igual a $ \\frac{FlujoMagnético}{Longitud^{2}} $. Es la medida usada para medir la unidad de <code>gauss</code> segun *\"sympi\"*."
      ],
      "metadata": {
        "nteract": {
          "transient": {
            "deleting": false
          }
        }
      }
    },
    {
      "cell_type": "code",
      "source": [
        "dimsys_SI.get_dimensional_dependencies(magnetic_flux/length**2)"
      ],
      "outputs": [
        {
          "output_type": "execute_result",
          "execution_count": 21,
          "data": {
            "text/plain": "{'mass': 1, 'current': -1, 'time': -2}"
          },
          "metadata": {}
        }
      ],
      "execution_count": 21,
      "metadata": {
        "collapsed": true,
        "jupyter": {
          "source_hidden": false,
          "outputs_hidden": false
        },
        "nteract": {
          "transient": {
            "deleting": false
          }
        },
        "execution": {
          "iopub.status.busy": "2020-11-29T18:41:56.271Z",
          "iopub.execute_input": "2020-11-29T18:41:56.278Z",
          "iopub.status.idle": "2020-11-29T18:41:56.294Z",
          "shell.execute_reply": "2020-11-29T18:41:56.300Z"
        }
      }
    },
    {
      "cell_type": "markdown",
      "source": [
        "Respondiendo a la segunda pregunta *\"¿Por qué la carga del electrón se ha definido como <code>electronvolt/volt</code>?\"*\r\n",
        "\r\n",
        "El electronvoltio (símbolo $eV$) es una unidad de energía que representa la variación de energía que experimenta un electrón al moverse desde un punto $Va$ hasta un punto $Vb$ cuando la diferencia $Vba = Vb-Va = 1 V$, es decir, cuando la diferencia de potencial del campo eléctrico es de 1 voltio.\r\n"
      ],
      "metadata": {
        "nteract": {
          "transient": {
            "deleting": false
          }
        }
      }
    },
    {
      "cell_type": "markdown",
      "source": [
        "|                                                                        |**SI**|**NO**|**A veces** |\n",
        "|---------------------------------------------------------------------------------------------------|\n",
        "|Todos los miembros se han integrado al trabajo del grupo                |**X** |      |            |\n",
        "|Todos los miembros participan activamente                               |**X** |      |            |\n",
        "|Todos los miembros respetan otras ideas aportadas                       |**X** |      |            |\n",
        "|Todos los miembros participan en la elaboración del informe             |**X** |      |            |\n",
        "|Me he preocupado por realizar un trabajo cooperativo con mis compañeros |**X** |      |            |\n",
        "    "
      ],
      "metadata": {
        "nteract": {
          "transient": {
            "deleting": false
          }
        }
      }
    },
    {
      "cell_type": "markdown",
      "source": [
        "Señala si consideras que algún aspecto del trabajo en grupo no ha sido adecuado.\n",
        "\n",
        "Se ha trabajado correctamente en equipo de manera cooperativa."
      ],
      "metadata": {}
    },
    {
      "cell_type": "markdown",
      "source": [
        "Trabajo realizado por: <br/>\r\n",
        "**Adrián Rincón López <br/>\r\n",
        "Sergio Montero García <br/>\r\n",
        "Antonio José Zurita Pérez <br/>\r\n",
        "Adrián Martín Jiménez**"
      ],
      "metadata": {
        "nteract": {
          "transient": {
            "deleting": false
          }
        }
      }
    }
  ],
  "metadata": {
    "kernel_info": {
      "name": "python3"
    },
    "language_info": {
      "name": "python",
      "version": "3.7.9",
      "mimetype": "text/x-python",
      "codemirror_mode": {
        "name": "ipython",
        "version": 3
      },
      "pygments_lexer": "ipython3",
      "nbconvert_exporter": "python",
      "file_extension": ".py"
    },
    "kernelspec": {
      "argv": [
        "C:\\Users\\adria\\scoop\\apps\\miniconda3\\current\\python.exe",
        "-m",
        "ipykernel_launcher",
        "-f",
        "{connection_file}"
      ],
      "display_name": "Python 3",
      "language": "python",
      "name": "python3"
    },
    "nteract": {
      "version": "0.26.0"
    }
  },
  "nbformat": 4,
  "nbformat_minor": 0
}